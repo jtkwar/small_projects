{
 "cells": [
  {
   "cell_type": "markdown",
   "metadata": {},
   "source": [
    "### Mass Spectra Analysis Code\n",
    "#### Jeffrey Kwarsick, Ph.D.\n",
    "#### Nov 2020\n",
    "\n",
    "Having studied physical chemistry for many years meant that I would be exposed to the technique of mass spectrometry.  Mass spectrometry, roughly speaking, involves ionizing your material of interest and then measuring its mass-to-charge ratio.  If you are interested in getting a better understanding, I would recommend checking out the Wikipedia Article (https://en.wikipedia.org/wiki/Mass_spectrometry)!  Overall, this is an increibly powerful technique with a wide array of applications and this Jupyter Notebook dives into the analysis of typical mass spectra."
   ]
  },
  {
   "cell_type": "code",
   "execution_count": 12,
   "metadata": {},
   "outputs": [],
   "source": [
    "import os\n",
    "import re\n",
    "import numpy as np\n",
    "import pandas as pd\n",
    "import matplotlib.pyplot as plt\n",
    "from matplotlib.patches import Ellipse\n",
    "import matplotlib.transforms as transforms\n",
    "import math\n",
    "import scipy as sci\n",
    "from sklearn.linear_model import LinearRegression\n",
    "from sklearn.metrics import mean_squared_error\n",
    "from sklearn.metrics import mean_absolute_error\n",
    "import time\n",
    "from datetime import datetime\n",
    "plt.style.use('ggplot')"
   ]
  },
  {
   "cell_type": "markdown",
   "metadata": {},
   "source": [
    "### Functions\n",
    "Here is a list of functions that I built in order to analyze a mass spectrum\n",
    "- `count_lines()`: counts the lines in a file\n",
    "- `extractor()`: extracts datapoint, x-values, and y-values\n",
    "- `find_peaks()`: finds indices of peaks with y-value > threshold\n",
    "- `parabola()`:  Given (x,y) values of three points calculate the vertex of parabola these points.  The vertex where the derivative of the parabola is zero.\n",
    "- `find_vertex()`: Given all x-values, all y-values, and indices of peaks (>threshold), calculate the vertex (x,y) for the peak in mass spectrum\n",
    "- `plot_vert`: plots vertical lines for centroids of all peaks above given threshold."
   ]
  },
  {
   "cell_type": "code",
   "execution_count": null,
   "metadata": {},
   "outputs": [],
   "source": [
    "def count_lines(datafile):\n",
    "    \"\"\"\n",
    "    Open file and read lines.\n",
    "    \n",
    "    Input: \n",
    "        file -- .txt\n",
    "    --------------------------\n",
    "    Return: \n",
    "        number of lines in files, int or float\n",
    "    \"\"\"\n",
    "    line_counter = 0\n",
    "    grab_lines = False\n",
    "    with open(datafile) as infile:\n",
    "        for line in infile:\n",
    "            line_counter += 1\n",
    "    return(line_counter)"
   ]
  },
  {
   "cell_type": "code",
   "execution_count": 49,
   "metadata": {},
   "outputs": [],
   "source": [
    "def extractor(datafile):\n",
    "    \"\"\"\n",
    "    Go through all lines in file.  Use regex to extract datapoint x and y information.\n",
    "    Return values as dataframe and convert x and y data to floats\n",
    "    \n",
    "    Input: \n",
    "        Datafile -- mass spectra .txt file\n",
    "    ----------------------------------------\n",
    "    Output:\n",
    "        Dataframe = [Datapoint, xvalue, yvalue]\n",
    "    \n",
    "    \"\"\"\n",
    "    datapoint, xunit, xvalue, yunit, yvalue, time = [], [], [], [], [], []\n",
    "    re_datapoint, re_xunit, re_xvalue, re_yunit, re_yvalue, re_time = r'datapoint', r'xunit', r'xvalue', r'yunit', r'yvalue', r'time'\n",
    "    re_grab_value = r'(?<=>\\s)[0-9.]+'\n",
    "    with open(datafile) as infile:\n",
    "        for line in infile:\n",
    "            if re.search(re_datapoint, line) is not None:\n",
    "                datapoint.extend(re.findall(re_grab_value, line))\n",
    "            #elif re.search(re_xunit, line) is not None:\n",
    "                #xunit.extend(re.findall(re_grab_value, line))\n",
    "            elif re.search(re_xvalue, line) is not None:\n",
    "                xvalue.extend(re.findall(re_grab_value, line))\n",
    "            #elif re.search(re_yunit, line) is not None:\n",
    "                #yunit.extend(re.findall(re_grab_value, line))\n",
    "            elif re.search(re_yvalue, line) is not None:\n",
    "                yvalue.extend(re.findall(re_grab_value, line))\n",
    "            #elif re.search(re_time, line) is not None:\n",
    "                #time.extend(re.findall(re_grab_value, line))\n",
    "    datapoint = [int(datapoint[i]) for i in range(len(datapoint))]\n",
    "    xvalue = [float(xvalue[i]) for i in range(len(xvalue))]\n",
    "    yvalue = [float(yvalue[i]) for i in range(len(yvalue))]\n",
    "    #time = [float(time[i]) for i in range(len(time))]\n",
    "    exportdf = pd.DataFrame(zip(datapoint,xvalue,yvalue), columns=['datapoint','xvalue', 'yvalue'])\n",
    "    return(exportdf)"
   ]
  },
  {
   "cell_type": "code",
   "execution_count": 22,
   "metadata": {},
   "outputs": [],
   "source": [
    "def find_peaks(yvals, threshold):\n",
    "    \"\"\"\n",
    "    Find all peaks in spectra with value > threshold\n",
    "    \n",
    "    Input:\n",
    "        yvals: array of floats of spectra intensity values\n",
    "        threshold: int/float \n",
    "    -------------------------------------------------------\n",
    "    Output:\n",
    "        peaks: array of floats containing indices of yval > threshold\n",
    "    \"\"\"\n",
    "    peaks = []\n",
    "    for i in range(len(yvals)):\n",
    "        if yvals[i] > threshold and yvals[i] > yvals[i-1] and yvals[i] > yvals[i+1]:\n",
    "            peaks.append(i)\n",
    "    return(peaks)"
   ]
  },
  {
   "cell_type": "code",
   "execution_count": 48,
   "metadata": {},
   "outputs": [],
   "source": [
    "def parabola(nxvals, nyvals):\n",
    "    \"\"\"\n",
    "    Given (x,y) values of three points calculate the vertex of parabola these points form\n",
    "    The vertex where the derivative of the parabola is zero.\n",
    "    \n",
    "    Inputs:\n",
    "        nxvals: list or np.array of x-values\n",
    "        nyvals: list or np.array of y-values\n",
    "    -------------------------------------------------------------------------------------\n",
    "    Outputs:\n",
    "        list of x and y values of parabola vertex\n",
    "    \"\"\"\n",
    "    x_sqr = list(np.power(nxvals, 2.0))\n",
    "    xs = np.array([[x_sqr[0],nxvals[0],1.], [x_sqr[1],nxvals[1],1.],[x_sqr[2],nxvals[2],1.]])\n",
    "    ys = np.array([[nyvals[0]],[nyvals[1]],[nyvals[2]]])\n",
    "    xs_inv = np.linalg.inv(xs)\n",
    "    abc = np.matmul(xs_inv, ys)\n",
    "    xv = float(-abc[1])/(2.*float(abc[0]))\n",
    "    yv = float(abc[2]) - (np.power(float(abc[1]),2.)/(4.*float(abc[0])))\n",
    "    return(np.round(xv,5),np.round(yv,5))"
   ]
  },
  {
   "cell_type": "code",
   "execution_count": 26,
   "metadata": {},
   "outputs": [],
   "source": [
    "def find_vertex(xvals,yvals,peaks):\n",
    "    \"\"\"\n",
    "    Given all x-values, all y-values, and indices of peaks (>threshold)\n",
    "    Calculate the vertex (x,y) for the peak in mass spectrum\n",
    "    \n",
    "    Input:\n",
    "        xvals: np.array, dataframe column of x-values\n",
    "        yvals: np.array, dataframe column of y-values\n",
    "        peaks: list or np.array of indices of peaks (>threshold)\n",
    "    --------------------------------------------------------------------    \n",
    "    Output:\n",
    "        centroids: array of vertices (x,y) of all peaks (>threshold) \n",
    "    \"\"\"\n",
    "    centroid = []\n",
    "    for i in range(len(peaks)):\n",
    "        prev,aft = peaks[i]-1, peaks[i]+1\n",
    "        x = [xvals[prev], xvals[peaks[i]], xvals[aft]]\n",
    "        y = [yvals[prev], yvals[peaks[i]], yvals[aft]]\n",
    "        # call to parabola() function\n",
    "        temp = parabola(x,y)\n",
    "        centroid.append(temp)\n",
    "    return(centroid)"
   ]
  },
  {
   "cell_type": "code",
   "execution_count": 50,
   "metadata": {},
   "outputs": [],
   "source": [
    "def plot_vert(cents):\n",
    "    \"\"\"\n",
    "    Given an x-value, plot vertical line\n",
    "    Input:\n",
    "        cents: array of x-values\n",
    "    ------------------------------------\n",
    "    Output:\n",
    "        matplotlib function plt.axvline\n",
    "    \"\"\"\n",
    "    for i in range(len(cents)):\n",
    "        plt.axvline(cents[i][0], color='blue',ls='-')"
   ]
  },
  {
   "cell_type": "markdown",
   "metadata": {},
   "source": [
    "### Run an Analysis with a sample dataset"
   ]
  },
  {
   "cell_type": "code",
   "execution_count": 51,
   "metadata": {},
   "outputs": [],
   "source": [
    "file = 'mass_spec.txt'"
   ]
  },
  {
   "cell_type": "code",
   "execution_count": 52,
   "metadata": {},
   "outputs": [
    {
     "name": "stdout",
     "output_type": "stream",
     "text": [
      "0.44ms\n"
     ]
    }
   ],
   "source": [
    "tic = time.time()\n",
    "data = extractor(file)\n",
    "toc = time.time()\n",
    "print(\"{:.2f}ms\".format(toc-tic))\n",
    "data.to_csv('mass_spec_export.csv')"
   ]
  },
  {
   "cell_type": "code",
   "execution_count": 53,
   "metadata": {},
   "outputs": [
    {
     "data": {
      "text/html": [
       "<div>\n",
       "<style scoped>\n",
       "    .dataframe tbody tr th:only-of-type {\n",
       "        vertical-align: middle;\n",
       "    }\n",
       "\n",
       "    .dataframe tbody tr th {\n",
       "        vertical-align: top;\n",
       "    }\n",
       "\n",
       "    .dataframe thead th {\n",
       "        text-align: right;\n",
       "    }\n",
       "</style>\n",
       "<table border=\"1\" class=\"dataframe\">\n",
       "  <thead>\n",
       "    <tr style=\"text-align: right;\">\n",
       "      <th></th>\n",
       "      <th>datapoint</th>\n",
       "      <th>xvalue</th>\n",
       "      <th>yvalue</th>\n",
       "    </tr>\n",
       "  </thead>\n",
       "  <tbody>\n",
       "    <tr>\n",
       "      <th>0</th>\n",
       "      <td>1</td>\n",
       "      <td>150.000097</td>\n",
       "      <td>0.0</td>\n",
       "    </tr>\n",
       "    <tr>\n",
       "      <th>1</th>\n",
       "      <td>2</td>\n",
       "      <td>150.000233</td>\n",
       "      <td>0.0</td>\n",
       "    </tr>\n",
       "    <tr>\n",
       "      <th>2</th>\n",
       "      <td>3</td>\n",
       "      <td>150.000368</td>\n",
       "      <td>0.0</td>\n",
       "    </tr>\n",
       "    <tr>\n",
       "      <th>3</th>\n",
       "      <td>4</td>\n",
       "      <td>150.000504</td>\n",
       "      <td>0.0</td>\n",
       "    </tr>\n",
       "    <tr>\n",
       "      <th>4</th>\n",
       "      <td>5</td>\n",
       "      <td>150.024783</td>\n",
       "      <td>0.0</td>\n",
       "    </tr>\n",
       "    <tr>\n",
       "      <th>...</th>\n",
       "      <td>...</td>\n",
       "      <td>...</td>\n",
       "      <td>...</td>\n",
       "    </tr>\n",
       "    <tr>\n",
       "      <th>17010</th>\n",
       "      <td>17011</td>\n",
       "      <td>1445.798712</td>\n",
       "      <td>0.0</td>\n",
       "    </tr>\n",
       "    <tr>\n",
       "      <th>17011</th>\n",
       "      <td>17012</td>\n",
       "      <td>1499.964257</td>\n",
       "      <td>0.0</td>\n",
       "    </tr>\n",
       "    <tr>\n",
       "      <th>17012</th>\n",
       "      <td>17013</td>\n",
       "      <td>1499.977818</td>\n",
       "      <td>0.0</td>\n",
       "    </tr>\n",
       "    <tr>\n",
       "      <th>17013</th>\n",
       "      <td>17014</td>\n",
       "      <td>1499.991379</td>\n",
       "      <td>0.0</td>\n",
       "    </tr>\n",
       "    <tr>\n",
       "      <th>17014</th>\n",
       "      <td>17015</td>\n",
       "      <td>1500.004940</td>\n",
       "      <td>0.0</td>\n",
       "    </tr>\n",
       "  </tbody>\n",
       "</table>\n",
       "<p>17015 rows × 3 columns</p>\n",
       "</div>"
      ],
      "text/plain": [
       "       datapoint       xvalue  yvalue\n",
       "0              1   150.000097     0.0\n",
       "1              2   150.000233     0.0\n",
       "2              3   150.000368     0.0\n",
       "3              4   150.000504     0.0\n",
       "4              5   150.024783     0.0\n",
       "...          ...          ...     ...\n",
       "17010      17011  1445.798712     0.0\n",
       "17011      17012  1499.964257     0.0\n",
       "17012      17013  1499.977818     0.0\n",
       "17013      17014  1499.991379     0.0\n",
       "17014      17015  1500.004940     0.0\n",
       "\n",
       "[17015 rows x 3 columns]"
      ]
     },
     "execution_count": 53,
     "metadata": {},
     "output_type": "execute_result"
    }
   ],
   "source": [
    "data"
   ]
  },
  {
   "cell_type": "code",
   "execution_count": 54,
   "metadata": {},
   "outputs": [
    {
     "data": {
      "image/png": "[encoded data removed]",
      "text/plain": [
       "<Figure size 432x432 with 1 Axes>"
      ]
     },
     "metadata": {},
     "output_type": "display_data"
    }
   ],
   "source": [
    "plt.figure(figsize=(6,6))\n",
    "plt.plot(data[\"xvalue\"], data[\"yvalue\"])\n",
    "plt.xlabel(\"m/z\")\n",
    "plt.ylabel(\"Intensity (ab.)\")\n",
    "plt.title(\"Mass Spectra\")\n",
    "plt.show()"
   ]
  },
  {
   "cell_type": "code",
   "execution_count": 55,
   "metadata": {},
   "outputs": [
    {
     "name": "stdout",
     "output_type": "stream",
     "text": [
      "0.20ms\n"
     ]
    }
   ],
   "source": [
    "tic = time.time()\n",
    "peaks = find_peaks(data['yvalue'], 2000.)\n",
    "centroids = find_vertex(data['xvalue'], data['yvalue'], peaks)\n",
    "toc = time.time()\n",
    "print(\"{:.2f}ms\".format(toc-tic))"
   ]
  },
  {
   "cell_type": "code",
   "execution_count": 56,
   "metadata": {
    "scrolled": true
   },
   "outputs": [
    {
     "data": {
      "text/plain": [
       "[73,\n",
       " 331,\n",
       " 472,\n",
       " 652,\n",
       " 1591,\n",
       " 1897,\n",
       " 1958,\n",
       " 3106,\n",
       " 3476,\n",
       " 4283,\n",
       " 5043,\n",
       " 5338,\n",
       " 5695,\n",
       " 5817,\n",
       " 5843,\n",
       " 6234,\n",
       " 6717,\n",
       " 7217,\n",
       " 7597,\n",
       " 8777,\n",
       " 8851,\n",
       " 9260,\n",
       " 9362,\n",
       " 9417,\n",
       " 9660,\n",
       " 10117,\n",
       " 10542,\n",
       " 10944,\n",
       " 10999,\n",
       " 11252,\n",
       " 12805,\n",
       " 12999,\n",
       " 13423,\n",
       " 13587,\n",
       " 13795,\n",
       " 13848,\n",
       " 14192,\n",
       " 14238]"
      ]
     },
     "execution_count": 56,
     "metadata": {},
     "output_type": "execute_result"
    }
   ],
   "source": [
    "peaks"
   ]
  },
  {
   "cell_type": "code",
   "execution_count": 57,
   "metadata": {
    "scrolled": true
   },
   "outputs": [
    {
     "data": {
      "text/plain": [
       "[(151.1118, 2979.0),\n",
       " (158.15399, 10176.5),\n",
       " (161.13255, 3313.25),\n",
       " (167.10672, 3664.5),\n",
       " (191.10431, 3402.6875),\n",
       " (199.16932, 3321.0625),\n",
       " (201.16385, 2147.28125),\n",
       " (245.0785, 2594.03125),\n",
       " (259.16691, 6652.25),\n",
       " (299.06174, 2205.4375),\n",
       " (335.12558, 2244.20312),\n",
       " (355.07004, 4214.875),\n",
       " (369.3517, 15371.125),\n",
       " (370.35511, 4080.40625),\n",
       " (371.10137, 2456.92188),\n",
       " (391.28444, 4474.67188),\n",
       " (413.26632, 5506.98438),\n",
       " (429.08887, 2356.6875),\n",
       " (445.12016, 3616.625),\n",
       " (503.10782, 8592.21875),\n",
       " (504.10686, 2915.42188),\n",
       " (519.13894, 18534.6875),\n",
       " (520.13809, 5320.10938),\n",
       " (521.13591, 4373.45312),\n",
       " (536.16589, 5442.54688),\n",
       " (550.62886, 3241.22656),\n",
       " (577.12665, 3009.94531),\n",
       " (593.15799, 7611.09375),\n",
       " (594.15728, 2608.66016),\n",
       " (610.18474, 3622.91406),\n",
       " (713.45222, 2373.51562),\n",
       " (718.53888, 2360.88672),\n",
       " (734.56955, 4922.82812),\n",
       " (739.46835, 2201.44141),\n",
       " (744.55392, 2261.52148),\n",
       " (746.56985, 2735.38672),\n",
       " (760.58562, 6342.63281),\n",
       " (761.58864, 3483.33594)]"
      ]
     },
     "execution_count": 57,
     "metadata": {},
     "output_type": "execute_result"
    }
   ],
   "source": [
    "centroids"
   ]
  },
  {
   "cell_type": "code",
   "execution_count": 58,
   "metadata": {},
   "outputs": [
    {
     "data": {
      "image/png": "[encoded data removed]",
      "text/plain": [
       "<Figure size 432x288 with 1 Axes>"
      ]
     },
     "metadata": {},
     "output_type": "display_data"
    }
   ],
   "source": [
    "plot_vert(centroids)\n",
    "plt.plot(data['xvalue'], data['yvalue'], \"ko-\", markersize=3)\n",
    "plt.xlabel('m/z')\n",
    "plt.ylabel('a.b. intensity units')\n",
    "plt.grid(True)\n",
    "plt.show()"
   ]
  },
  {
   "cell_type": "code",
   "execution_count": 45,
   "metadata": {},
   "outputs": [
    {
     "data": {
      "image/png": "[encoded data removed]",
      "text/plain": [
       "<Figure size 432x288 with 1 Axes>"
      ]
     },
     "metadata": {},
     "output_type": "display_data"
    }
   ],
   "source": [
    "plot_vert(centroids)\n",
    "plt.plot(data['xvalue'], data['yvalue'], \"ko-\", markersize=3)\n",
    "plt.xlabel('m/z')\n",
    "plt.ylabel('a.b. intensity units')\n",
    "plt.grid(True)\n",
    "plt.xlim([191.100, 191.110])\n",
    "plt.ylim([0, 7500])\n",
    "plt.show()"
   ]
  }
 ],
 "metadata": {
  "kernelspec": {
   "display_name": "Python 3",
   "language": "python",
   "name": "python3"
  },
  "language_info": {
   "codemirror_mode": {
    "name": "ipython",
    "version": 3
   },
   "file_extension": ".py",
   "mimetype": "text/x-python",
   "name": "python",
   "nbconvert_exporter": "python",
   "pygments_lexer": "ipython3",
   "version": "3.7.7"
  }
 },
 "nbformat": 4,
 "nbformat_minor": 4
}
